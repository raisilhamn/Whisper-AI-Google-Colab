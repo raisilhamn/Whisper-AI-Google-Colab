{
  "cells": [
    {
      "cell_type": "markdown",
      "metadata": {
        "id": "view-in-github",
        "colab_type": "text"
      },
      "source": [
        "<a href=\"https://colab.research.google.com/github/raisilhamn/Whisper-Ai-Google-Colab/blob/main/Whisper_AI_with_Google_Colab.ipynb\" target=\"_parent\"><img src=\"https://colab.research.google.com/assets/colab-badge.svg\" alt=\"Open In Colab\"/></a>"
      ]
    },
    {
      "cell_type": "markdown",
      "source": [
        "<font size=64px>Whisper Ai with Google Colab\n",
        "</font><a href=\"https://deepgram.com/openai-whisper\"></a>\n",
        "\n",
        "Whisper is an exciting new model for automatic speech recognition (ASR) developed by OpenAI. "
      ],
      "metadata": {
        "id": "9qzwD9ts4_kc"
      }
    },
    {
      "cell_type": "markdown",
      "source": [
        "In the first line we install Whisper!"
      ],
      "metadata": {
        "id": "V1QHcVQz4Gu7"
      }
    },
    {
      "cell_type": "code",
      "execution_count": null,
      "metadata": {
        "id": "HOvKw2K3kWqK"
      },
      "outputs": [],
      "source": [
        "!pip install git+https://github.com/openai/whisper.git "
      ]
    },
    {
      "cell_type": "markdown",
      "source": [
        "Next we pull down some audio to transcribe."
      ],
      "metadata": {
        "id": "FatSKi3YAQCx"
      }
    },
    {
      "cell_type": "code",
      "source": [
        "!pip install yt-dlp\n",
        "!yt-dlp https://youtu.be/gbZmKq9-HFc --format m4a -o \"%(id)s.%(ext)s\""
      ],
      "metadata": {
        "id": "cYaGfY1J2VRi"
      },
      "execution_count": null,
      "outputs": []
    },
    {
      "cell_type": "markdown",
      "source": [
        "Finally, we run Whisper! It may take a little time to get started, but soon the transcription should start to appear."
      ],
      "metadata": {
        "id": "yZ2-aeeBAefF"
      }
    },
    {
      "cell_type": "code",
      "source": [
        "!whisper \"/content/gbZmKq9-HFc.m4a\" --model large --language Indonesian"
      ],
      "metadata": {
        "id": "uU1Bxv1y6zAx"
      },
      "execution_count": null,
      "outputs": []
    }
  ],
  "metadata": {
    "colab": {
      "provenance": [],
      "private_outputs": true,
      "include_colab_link": true
    },
    "kernelspec": {
      "display_name": "Python 3",
      "name": "python3"
    },
    "language_info": {
      "name": "python"
    },
    "accelerator": "GPU"
  },
  "nbformat": 4,
  "nbformat_minor": 0
}